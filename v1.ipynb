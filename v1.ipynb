{
 "cells": [
  {
   "metadata": {},
   "cell_type": "code",
   "source": [
    "from huggingface_hub import notebook_login\n",
    "notebook_login()"
   ],
   "id": "e454c106f5bac3ce",
   "outputs": [],
   "execution_count": null
  },
  {
   "metadata": {},
   "cell_type": "code",
   "source": [
    "from transformers import WhisperProcessor, TrainingArguments, Trainer\n",
    "from models import SpeechToTextModel\n",
    "from datasets import load_dataset"
   ],
   "id": "initial_id",
   "outputs": [],
   "execution_count": null
  },
  {
   "metadata": {},
   "cell_type": "code",
   "source": "from transformers import AutoTokenizer",
   "id": "d212773fafe948c6",
   "outputs": [],
   "execution_count": null
  },
  {
   "metadata": {},
   "cell_type": "code",
   "source": "from utils import LibriSpeechDataCollator",
   "id": "9086b64b13f91d72",
   "outputs": [],
   "execution_count": null
  },
  {
   "metadata": {},
   "cell_type": "code",
   "source": [
    "WHISPER_MODEL_NAME = \"openai/whisper-base\"\n",
    "LLAMA_MODEL_NAME = \"meta-llama/Llama-3.2-3B\""
   ],
   "id": "89201f4b0f5d0a00",
   "outputs": [],
   "execution_count": null
  },
  {
   "metadata": {},
   "cell_type": "code",
   "source": [
    "model = SpeechToTextModel(\n",
    "    whisper_model_name=WHISPER_MODEL_NAME,\n",
    "    llama_model_name=LLAMA_MODEL_NAME,\n",
    "    hidden_dims=[2048, 1024, 2048],\n",
    "    train_whisper=False\n",
    ")"
   ],
   "id": "e86dfcdbb635c076",
   "outputs": [],
   "execution_count": null
  },
  {
   "metadata": {},
   "cell_type": "code",
   "source": "dataset_name = \"openslr/librispeech_asr\"",
   "id": "a1a636a956f029bc",
   "outputs": [],
   "execution_count": null
  },
  {
   "metadata": {},
   "cell_type": "code",
   "source": "dataset = load_dataset(dataset_name, 'clean', split='train.100')",
   "id": "41f28eb5bb4b6bf8",
   "outputs": [],
   "execution_count": null
  },
  {
   "metadata": {},
   "cell_type": "code",
   "source": "print(len(dataset))",
   "id": "d9414ba2249cb87a",
   "outputs": [],
   "execution_count": null
  },
  {
   "metadata": {},
   "cell_type": "code",
   "source": [
    "processor = WhisperProcessor.from_pretrained(WHISPER_MODEL_NAME)\n",
    "tokenizer = AutoTokenizer.from_pretrained(LLAMA_MODEL_NAME)"
   ],
   "id": "50f1cbda75a8aabc",
   "outputs": [],
   "execution_count": null
  },
  {
   "metadata": {},
   "cell_type": "code",
   "source": [
    "training_args = TrainingArguments(\n",
    "    output_dir=\"./v1-checkpoints\",\n",
    "    overwrite_output_dir=True,\n",
    "    per_device_train_batch_size=4,\n",
    "    num_train_epochs=1,\n",
    "    logging_steps=10,\n",
    "    save_steps=200,\n",
    "    bf16=True,\n",
    "    remove_unused_columns=False,\n",
    "    learning_rate=5e-5,\n",
    "    report_to=\"none\",\n",
    ")"
   ],
   "id": "c75a8456de22eb7e",
   "outputs": [],
   "execution_count": null
  },
  {
   "metadata": {},
   "cell_type": "code",
   "source": [
    "trainer = Trainer(\n",
    "    model=model,\n",
    "    args=training_args,\n",
    "    train_dataset=dataset,\n",
    "    data_collator=LibriSpeechDataCollator(processor, tokenizer),\n",
    ")"
   ],
   "id": "70262b8e153fa86d",
   "outputs": [],
   "execution_count": null
  },
  {
   "metadata": {},
   "cell_type": "code",
   "source": "trainer.train()",
   "id": "d8dce859d32fe106",
   "outputs": [],
   "execution_count": null
  },
  {
   "metadata": {},
   "cell_type": "code",
   "outputs": [],
   "execution_count": null,
   "source": "",
   "id": "b556867928bb62c5"
  }
 ],
 "metadata": {
  "kernelspec": {
   "display_name": "Python 3",
   "language": "python",
   "name": "python3"
  },
  "language_info": {
   "codemirror_mode": {
    "name": "ipython",
    "version": 2
   },
   "file_extension": ".py",
   "mimetype": "text/x-python",
   "name": "python",
   "nbconvert_exporter": "python",
   "pygments_lexer": "ipython2",
   "version": "2.7.6"
  }
 },
 "nbformat": 4,
 "nbformat_minor": 5
}
