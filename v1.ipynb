{
 "cells": [
  {
   "metadata": {},
   "cell_type": "code",
   "source": [
    "from huggingface_hub import notebook_login\n",
    "notebook_login()"
   ],
   "id": "e454c106f5bac3ce",
   "outputs": [],
   "execution_count": null
  },
  {
   "metadata": {},
   "cell_type": "code",
   "source": [
    "import torch\n",
    "from datasets import load_dataset\n",
    "from models import SpeechToTextModel"
   ],
   "id": "4534fc6ce9ec1be1",
   "outputs": [],
   "execution_count": null
  },
  {
   "metadata": {},
   "cell_type": "code",
   "source": "from transformers import WhisperProcessor, TrainingArguments, Trainer, AutoTokenizer",
   "id": "initial_id",
   "outputs": [],
   "execution_count": null
  },
  {
   "metadata": {},
   "cell_type": "code",
   "source": "from utils import LibriSpeechDataCollator",
   "id": "9086b64b13f91d72",
   "outputs": [],
   "execution_count": null
  },
  {
   "metadata": {},
   "cell_type": "code",
   "source": [
    "WHISPER_MODEL_NAME = \"openai/whisper-base\"\n",
    "LLAMA_MODEL_NAME = \"meta-llama/Llama-3.2-3B\""
   ],
   "id": "89201f4b0f5d0a00",
   "outputs": [],
   "execution_count": null
  },
  {
   "metadata": {},
   "cell_type": "code",
   "source": [
    "model = SpeechToTextModel(\n",
    "    whisper_model_name=WHISPER_MODEL_NAME,\n",
    "    llama_model_name=LLAMA_MODEL_NAME,\n",
    "    hidden_dims=[2048, 1024, 2048],\n",
    "    train_whisper=False\n",
    ")"
   ],
   "id": "e86dfcdbb635c076",
   "outputs": [],
   "execution_count": null
  },
  {
   "metadata": {},
   "cell_type": "code",
   "source": "dataset_name = \"openslr/librispeech_asr\"",
   "id": "a1a636a956f029bc",
   "outputs": [],
   "execution_count": null
  },
  {
   "metadata": {},
   "cell_type": "code",
   "source": "dataset = load_dataset(dataset_name, 'clean', split='train.100')",
   "id": "41f28eb5bb4b6bf8",
   "outputs": [],
   "execution_count": null
  },
  {
   "metadata": {},
   "cell_type": "code",
   "source": [
    "processor = WhisperProcessor.from_pretrained(WHISPER_MODEL_NAME)\n",
    "tokenizer = AutoTokenizer.from_pretrained(LLAMA_MODEL_NAME)"
   ],
   "id": "50f1cbda75a8aabc",
   "outputs": [],
   "execution_count": null
  },
  {
   "metadata": {},
   "cell_type": "code",
   "source": [
    "training_args = TrainingArguments(\n",
    "    output_dir=\"./v1-checkpoints\",\n",
    "    overwrite_output_dir=True,\n",
    "    per_device_train_batch_size=1,\n",
    "    num_train_epochs=1,\n",
    "    logging_steps=10,\n",
    "    save_steps=100,\n",
    "    bf16=True,\n",
    "    remove_unused_columns=False,\n",
    "    learning_rate=5e-5,\n",
    "    report_to=\"none\",\n",
    "    save_safetensors=False,\n",
    ")"
   ],
   "id": "c75a8456de22eb7e",
   "outputs": [],
   "execution_count": null
  },
  {
   "metadata": {},
   "cell_type": "code",
   "source": [
    "trainer = Trainer(\n",
    "    model=model,\n",
    "    args=training_args,\n",
    "    train_dataset=dataset,\n",
    "    data_collator=LibriSpeechDataCollator(processor, tokenizer),\n",
    ")"
   ],
   "id": "70262b8e153fa86d",
   "outputs": [],
   "execution_count": null
  },
  {
   "metadata": {},
   "cell_type": "code",
   "source": "trainer.train()",
   "id": "d8dce859d32fe106",
   "outputs": [],
   "execution_count": null
  },
  {
   "metadata": {},
   "cell_type": "code",
   "source": "model\n",
   "id": "51a20f93f5e36909",
   "outputs": [],
   "execution_count": null
  },
  {
   "metadata": {},
   "cell_type": "code",
   "source": [
    "torch.cuda.empty_cache()\n",
    "torch.cuda.reset_peak_memory_stats()\n",
    "print(torch.cuda.memory_summary())"
   ],
   "id": "7b79657c38485f85",
   "outputs": [],
   "execution_count": null
  },
  {
   "metadata": {},
   "cell_type": "code",
   "source": [
    "import gc\n",
    "\n",
    "torch.cuda.empty_cache()\n",
    "gc.collect()\n",
    "with torch.no_grad():\n",
    "    for obj in gc.get_objects():\n",
    "        try:\n",
    "            if torch.is_tensor(obj):\n",
    "                del obj\n",
    "        except:\n",
    "            pass\n",
    "torch.cuda.empty_cache()"
   ],
   "id": "b556867928bb62c5",
   "outputs": [],
   "execution_count": null
  },
  {
   "metadata": {},
   "cell_type": "code",
   "source": "inspect.getsource(LibriSpeechDataCollator)",
   "id": "557430479deaac3b",
   "outputs": [],
   "execution_count": null
  },
  {
   "metadata": {},
   "cell_type": "code",
   "source": [
    "batch = dataset.select(range(1))\n",
    "lbdc = LibriSpeechDataCollator(processor, tokenizer)"
   ],
   "id": "3fe4aeede23fbd98",
   "outputs": [],
   "execution_count": null
  },
  {
   "metadata": {},
   "cell_type": "code",
   "source": "input_parameters = lbdc(batch)",
   "id": "1a4cb1ee63645b84",
   "outputs": [],
   "execution_count": null
  },
  {
   "metadata": {},
   "cell_type": "code",
   "source": [
    "print(input_parameters[\"input_features\"].shape)\n",
    "print(input_parameters[\"labels\"].shape)\n",
    "print(input_parameters[\"input_ids\"].shape)"
   ],
   "id": "4f6f72b9bc621c06",
   "outputs": [],
   "execution_count": null
  },
  {
   "metadata": {},
   "cell_type": "code",
   "source": [
    "input_parameters['input_features'] = input_parameters['input_features'].cuda()\n",
    "input_parameters['labels'] = input_parameters['labels'].cuda()\n",
    "input_parameters['input_ids'] = input_parameters['input_ids'].cuda()"
   ],
   "id": "5d4c3951ed1069c8",
   "outputs": [],
   "execution_count": null
  },
  {
   "metadata": {},
   "cell_type": "code",
   "source": "model = model.cuda()",
   "id": "a0790e73edfa1510",
   "outputs": [],
   "execution_count": null
  },
  {
   "metadata": {},
   "cell_type": "code",
   "source": [
    "outputs = model.forward(\n",
    "    input_features=input_parameters['input_features'],\n",
    "    labels=input_parameters['labels'],\n",
    "    input_ids=input_parameters['input_ids'],\n",
    ")"
   ],
   "id": "775984e08af2b20a",
   "outputs": [],
   "execution_count": null
  },
  {
   "metadata": {},
   "cell_type": "code",
   "source": "print(outputs.logits.shape)",
   "id": "a4d2dff14691181",
   "outputs": [],
   "execution_count": null
  },
  {
   "metadata": {},
   "cell_type": "code",
   "source": "print(outputs.loss)",
   "id": "2d505befd2bff14a",
   "outputs": [],
   "execution_count": null
  },
  {
   "metadata": {},
   "cell_type": "code",
   "source": "",
   "id": "37c55e67601de802",
   "outputs": [],
   "execution_count": null
  }
 ],
 "metadata": {
  "kernelspec": {
   "display_name": "Python 3",
   "language": "python",
   "name": "python3"
  },
  "language_info": {
   "codemirror_mode": {
    "name": "ipython",
    "version": 2
   },
   "file_extension": ".py",
   "mimetype": "text/x-python",
   "name": "python",
   "nbconvert_exporter": "python",
   "pygments_lexer": "ipython2",
   "version": "2.7.6"
  }
 },
 "nbformat": 4,
 "nbformat_minor": 5
}
